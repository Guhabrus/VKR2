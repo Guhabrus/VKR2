{
 "cells": [
  {
   "cell_type": "code",
   "execution_count": null,
   "metadata": {},
   "outputs": [],
   "source": [
    "!git clone https://github.com/WongKinYiu/yolov7.git"
   ]
  },
  {
   "cell_type": "code",
   "execution_count": null,
   "metadata": {},
   "outputs": [],
   "source": [
    "!conda create -n ML_maks python=3.9"
   ]
  },
  {
   "cell_type": "markdown",
   "metadata": {},
   "source": [
    "%cd yolov7/\n",
    "\n",
    "!pip install -r requirements.txt"
   ]
  },
  {
   "cell_type": "code",
   "execution_count": null,
   "metadata": {},
   "outputs": [],
   "source": [
    "!git clone https://github.com/Guhabrus/VKR.git"
   ]
  },
  {
   "cell_type": "code",
   "execution_count": null,
   "metadata": {},
   "outputs": [],
   "source": [
    "!python train.py --device 0 --batch 16 --epochs 55 --data /content/gdrive/MyDrive/Yolo7_Airolane/yolov7/VKR/data.yaml --weights '/content/gdrive/MyDrive/Yolo7_Airolane/yolov7/VKR/yolov7.pt' "
   ]
  }
 ],
 "metadata": {
  "interpreter": {
   "hash": "81965826de3cdcc69b8630affafd24372358ce96d61c0dc674fb17b626ad7509"
  },
  "kernelspec": {
   "display_name": "Python 3.9.15 ('Yolo7')",
   "language": "python",
   "name": "python3"
  },
  "language_info": {
   "codemirror_mode": {
    "name": "ipython",
    "version": 3
   },
   "file_extension": ".py",
   "mimetype": "text/x-python",
   "name": "python",
   "nbconvert_exporter": "python",
   "pygments_lexer": "ipython3",
   "version": "3.9.15"
  },
  "orig_nbformat": 4
 },
 "nbformat": 4,
 "nbformat_minor": 2
}
